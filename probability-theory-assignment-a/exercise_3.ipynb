{
  "nbformat": 4,
  "nbformat_minor": 0,
  "metadata": {
    "colab": {
      "name": "exercise-3.ipynb",
      "provenance": [],
      "collapsed_sections": [],
      "toc_visible": true,
      "mount_file_id": "1QwPSpW0kBDmohlCE13u3lmui5sA4TcmA",
      "authorship_tag": "ABX9TyM1g1Z+Lr6pvf/jpgMqpy0+",
      "include_colab_link": true
    },
    "kernelspec": {
      "name": "python3",
      "display_name": "Python 3"
    },
    "language_info": {
      "name": "python"
    }
  },
  "cells": [
    {
      "cell_type": "markdown",
      "metadata": {
        "id": "view-in-github",
        "colab_type": "text"
      },
      "source": [
        "<a href=\"https://colab.research.google.com/github/MichaelCBarilla/Automate-Checkout/blob/master/probability-theory-assignment-a/exercise_3.ipynb\" target=\"_parent\"><img src=\"https://colab.research.google.com/assets/colab-badge.svg\" alt=\"Open In Colab\"/></a>"
      ]
    },
    {
      "cell_type": "markdown",
      "metadata": {
        "id": "xaHvCqqU9KS9"
      },
      "source": [
        "# Probability Theory - Assignment A\n",
        "\n",
        "## Excercise 3"
      ]
    },
    {
      "cell_type": "markdown",
      "metadata": {
        "id": "ddKDmS2_sSPN"
      },
      "source": [
        "##### a. Calculate the probability of the counts of outcome \"2\" if the possible ***equally probable*** outcomes are all integer numbers between 1 and 10 and we performed n = 1000 trials."
      ]
    },
    {
      "cell_type": "markdown",
      "metadata": {
        "id": "wMNPhGEBIVUC"
      },
      "source": [
        "* k = 10, where k is the number of possible outcomes\n",
        "* n = 1000, where n is the number of trials in the multinomial distribution\n",
        "* Probability of each outcome is 10%, or p = 1/10, since they are equally probable.\n",
        "* Need to find probability the given counts of 2 after running 1000 trials and counting up all the outcomes"
      ]
    },
    {
      "cell_type": "code",
      "metadata": {
        "colab": {
          "base_uri": "https://localhost:8080/"
        },
        "id": "qd5CKtp4xHUc",
        "outputId": "3135f5f6-582c-42ab-f9a5-73b85024edad"
      },
      "source": [
        "import random\n",
        "from collections import Counter\n",
        "# P = [ n! / ( n1! * n2! * ... nk! ) ] * ( p1n1 * p2n2 * . . . * pknk )\n",
        "\n",
        "def counts_after_n_trials(n: int = 1):\n",
        "  outcomes = []\n",
        "  for i in range(n):\n",
        "    outcome = int(random.random() * 10) + 1\n",
        "    outcomes.append(outcome)\n",
        "  c = Counter(outcomes)\n",
        "  return c\n",
        "\n",
        "c = counts_after_n_trials(n = 1000)\n",
        "\n",
        "from scipy.stats import multinomial\n",
        "\n",
        "def get_prob_of_counts(counter):\n",
        "  rv = multinomial(1000, [0.1 for _ in range(10)])\n",
        "  count_list = [c[i] for i in range(1,11)]\n",
        "  return rv.pmf(count_list)\n",
        "\n",
        "print(f'probability of counts of \"2\" at {c[2]}: {get_prob_of_counts(c)}')\n",
        "print('rest of counts:')\n",
        "for i in range(1,11):\n",
        "  print(f'{i}: {c[i]}')   "
      ],
      "execution_count": 98,
      "outputs": [
        {
          "output_type": "stream",
          "text": [
            "probability of counts of \"2\" at 114: 8.778383108281552e-14\n",
            "rest of counts:\n",
            "1: 93\n",
            "2: 114\n",
            "3: 104\n",
            "4: 99\n",
            "5: 103\n",
            "6: 101\n",
            "7: 101\n",
            "8: 102\n",
            "9: 95\n",
            "10: 88\n"
          ],
          "name": "stdout"
        }
      ]
    },
    {
      "cell_type": "markdown",
      "metadata": {
        "id": "xkpGxdOnlmKo"
      },
      "source": [
        "##### b. Simulate n independent trials of the multinoulli (categorical distribution) compliant to the specification of (a). Plot the probability in (a) as a function of n independent trails(n=10-1000). Write your conclusions with respect to the behavior of the estimated probability as n increases."
      ]
    },
    {
      "cell_type": "code",
      "metadata": {
        "id": "o7VaktRAl3V0"
      },
      "source": [
        "import random\n",
        "\n",
        "def prob_of_2_over_n_trials(n=1):\n",
        "  # Function to simulate n trials of 10 equally possible outcomes (1, 2, ..., 10).\n",
        "  # Returns a list of the probability of the outcome being 2 at the index/trial.\n",
        "  # Trial 1 is index 0, trial 2 is index 1, etc.\n",
        "  # n = number of trials to conduct\n",
        "  result = []\n",
        "  outcomes = []\n",
        "  for i in range(n):\n",
        "    outcome = int(random.random() * 10) + 1\n",
        "    outcomes.append(outcome)\n",
        "    count_of_2 = outcomes.count(2)\n",
        "    current_prob = count_of_2 / (i + 1)\n",
        "    result.append(current_prob)\n",
        "  return result\n",
        "\n",
        "probability_of_2 = prob_of_2_over_n_trials(1000)\n",
        "x = []\n",
        "y = []\n",
        "for i, value in enumerate(probability_of_2):\n",
        "  x.append(i + 1)\n",
        "  y.append(value)\n"
      ],
      "execution_count": null,
      "outputs": []
    },
    {
      "cell_type": "code",
      "metadata": {
        "colab": {
          "base_uri": "https://localhost:8080/",
          "height": 279
        },
        "id": "j5Lkrv9fmFbl",
        "outputId": "4d9a9b42-ce5c-42b7-8475-e700f4ee58bb"
      },
      "source": [
        "import matplotlib.pyplot as plt\n",
        "plt.plot(x[9:], y[9:])\n",
        "plt.xlabel('n trials')\n",
        "plt.ylabel('probability of 2')\n",
        "plt.xlim([10, 1000])\n",
        "plt.show()\n"
      ],
      "execution_count": null,
      "outputs": [
        {
          "output_type": "display_data",
          "data": {
            "image/png": "[encoded data removed]",
            "text/plain": [
              "<Figure size 432x288 with 1 Axes>"
            ]
          },
          "metadata": {
            "tags": [],
            "needs_background": "light"
          }
        }
      ]
    },
    {
      "cell_type": "markdown",
      "metadata": {
        "id": "omH5VWIn9NoQ"
      },
      "source": [
        "## Notes:\n",
        "* It appears that as n increases, the true probability of the 2 is approached. \n",
        "* This experiment is evident of the Central Limit Theorem for probability."
      ]
    },
    {
      "cell_type": "code",
      "metadata": {
        "id": "SOozg2D39luz"
      },
      "source": [
        ""
      ],
      "execution_count": null,
      "outputs": []
    }
  ]
}