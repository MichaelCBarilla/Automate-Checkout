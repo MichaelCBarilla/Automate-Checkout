{
  "nbformat": 4,
  "nbformat_minor": 0,
  "metadata": {
    "colab": {
      "name": "MLE-excercise_1.ipynb",
      "provenance": [],
      "collapsed_sections": [],
      "mount_file_id": "1393x1jY35SgOU9BYn4AdvtXdp2gKl9TP",
      "authorship_tag": "ABX9TyP+QKUVCxxef9zVk00JyvrH",
      "include_colab_link": true
    },
    "kernelspec": {
      "name": "python3",
      "display_name": "Python 3"
    },
    "language_info": {
      "name": "python"
    }
  },
  "cells": [
    {
      "cell_type": "markdown",
      "metadata": {
        "id": "view-in-github",
        "colab_type": "text"
      },
      "source": [
        "<a href=\"https://colab.research.google.com/github/MichaelCBarilla/Automate-Checkout/blob/master/mle-poisson-assignment/MLE_excercise_1.ipynb\" target=\"_parent\"><img src=\"https://colab.research.google.com/assets/colab-badge.svg\" alt=\"Open In Colab\"/></a>"
      ]
    },
    {
      "cell_type": "markdown",
      "metadata": {
        "id": "T6_9F6wW2NdP"
      },
      "source": [
        "#MLE - Poisson Assignment\n",
        "\n",
        "Say you started a YouTube channel about a year ago. You’ve done quite well so far and have collected some data. You want to know the probability of at least x visitors to your channel given some time period. The obvious choice in distributions is the Poisson distribution which depends only on one parameter, λ, which is the average number of occurrences per interval. We want to estimate this parameter using Maximum Likelihood Estimation."
      ]
    },
    {
      "cell_type": "markdown",
      "metadata": {
        "id": "kQuEnoux2fB_"
      },
      "source": [
        "1. Simulate 100 visits to your youtube channel, assuming that they will a Poisson distribution with a mean of 10 visits per minute. Plot the arrival time vs visitor index.\n",
        "\n",
        "* $\\lambda = 10$ visitors$ / 1 $ minute\n",
        "* $n = 100,$ where n is the number of visitors.\n",
        "* Find the arrival times of each visitor and plot them.\n",
        "  * Performing a random discrete process of 100 random variables.\n",
        "  * Each random variable is a visitor visiting your channel over time.\n",
        "* Graph will start from some arbitrary minute 0.\n",
        "\n",
        "Probability Mass Function (PMF):\n",
        "$P_X(k)=\\frac{e^{-\\lambda}*\\lambda^k}{k!}$\n",
        "\n"
      ]
    },
    {
      "cell_type": "code",
      "metadata": {
        "id": "RgcFdo1Y2lkY"
      },
      "source": [
        "import math\n",
        "\n",
        "def pmf(mean_lambda: float, k: int) -> float:\n",
        "  result = (math.exp(-mean_lambda) * mean_lambda ** k) / math.factorial(k)\n",
        "  return result\n",
        "\n",
        "def pmfs_over_n_events(mean_lambda: float, n: int):\n",
        "  assert n > 0, \"Can't have less than one event\"\n",
        "\n",
        "  result = []\n",
        "  for i in range(1, n + 1):\n",
        "    result.append(pmf(mean_lambda, i))\n",
        "  return result\n"
      ],
      "execution_count": 2,
      "outputs": []
    },
    {
      "cell_type": "markdown",
      "metadata": {
        "id": "vKsHCasKGXiN"
      },
      "source": [
        "We can see how the probability of visitors is dependent upon the lambda, or average amount of visitors over a set time interval."
      ]
    },
    {
      "cell_type": "code",
      "metadata": {
        "colab": {
          "base_uri": "https://localhost:8080/",
          "height": 281
        },
        "id": "29Z1ZSOP7x6f",
        "outputId": "89c98ed4-111c-469f-eff8-5071d959615c"
      },
      "source": [
        "import matplotlib.pyplot as plt\n",
        "%matplotlib inline\n",
        "\n",
        "pmfs = pmfs_over_n_events(1, 10)\n",
        "\n",
        "plt.bar(range(1, 11), pmfs, 0.8)\n",
        "plt.xticks(range(1,11))\n",
        "plt.yticks([0.0, 0.05, 0.1, 0.15, 0.2, 0.25, 0.3, 0.35, 0.4, 0.45, 0.5])\n",
        "plt.title('lamba = 1')\n",
        "plt.show()\n",
        "\n"
      ],
      "execution_count": 3,
      "outputs": [
        {
          "output_type": "display_data",
          "data": {
            "image/png": "[encoded data removed]",
            "text/plain": [
              "<Figure size 432x288 with 1 Axes>"
            ]
          },
          "metadata": {
            "tags": [],
            "needs_background": "light"
          }
        }
      ]
    },
    {
      "cell_type": "code",
      "metadata": {
        "colab": {
          "base_uri": "https://localhost:8080/",
          "height": 281
        },
        "id": "bIaTHVDQGvsj",
        "outputId": "e9c1a99b-b397-47ef-8451-44b1040316c6"
      },
      "source": [
        "import matplotlib.pyplot as plt\n",
        "%matplotlib inline\n",
        "\n",
        "pmfs = pmfs_over_n_events(2, 10)\n",
        "\n",
        "plt.bar(range(1, 11), pmfs, 0.8)\n",
        "plt.xticks(range(1,11))\n",
        "plt.yticks([0.0, 0.05, 0.1, 0.15, 0.2, 0.25, 0.3, 0.35, 0.4, 0.45, 0.5])\n",
        "plt.title('lamba = 2')\n",
        "plt.show()\n"
      ],
      "execution_count": 4,
      "outputs": [
        {
          "output_type": "display_data",
          "data": {
            "image/png": "[encoded data removed]",
            "text/plain": [
              "<Figure size 432x288 with 1 Axes>"
            ]
          },
          "metadata": {
            "tags": [],
            "needs_background": "light"
          }
        }
      ]
    },
    {
      "cell_type": "code",
      "metadata": {
        "colab": {
          "base_uri": "https://localhost:8080/",
          "height": 281
        },
        "id": "DIDaEnd980TS",
        "outputId": "0951091f-ad46-49c5-fae9-2a3ec4c700fa"
      },
      "source": [
        "pmfs = pmfs_over_n_events(10, 20)\n",
        "\n",
        "plt.bar(range(1, 21), pmfs, 0.8)\n",
        "plt.xticks(range(1,21))\n",
        "plt.yticks([0.0, 0.05, 0.1, 0.15, 0.2, 0.25, 0.3, 0.35, 0.4, 0.45, 0.5])\n",
        "plt.title('lamba = 10')\n",
        "plt.show()\n"
      ],
      "execution_count": 5,
      "outputs": [
        {
          "output_type": "display_data",
          "data": {
            "image/png": "[encoded data removed]",
            "text/plain": [
              "<Figure size 432x288 with 1 Axes>"
            ]
          },
          "metadata": {
            "tags": [],
            "needs_background": "light"
          }
        }
      ]
    },
    {
      "cell_type": "code",
      "metadata": {
        "colab": {
          "base_uri": "https://localhost:8080/",
          "height": 432
        },
        "id": "7jrauPVfEmef",
        "outputId": "e9350314-d0f1-479b-9664-53244ad2abe6"
      },
      "source": [
        "from matplotlib.pyplot import figure\n",
        "\n",
        "figure(figsize=(16, 6), dpi=80)\n",
        "\n",
        "pmfs = pmfs_over_n_events(20, 40)\n",
        "\n",
        "plt.bar(range(1, 41), pmfs, 0.8)\n",
        "plt.xticks(range(1,41), fontsize=12)\n",
        "plt.yticks([0.0, 0.05, 0.1, 0.15, 0.2, 0.25, 0.3, 0.35, 0.4, 0.45, 0.5])\n",
        "plt.title('lamba = 20')\n",
        "\n",
        "plt.show()\n"
      ],
      "execution_count": 8,
      "outputs": [
        {
          "output_type": "display_data",
          "data": {
            "image/png": "[encoded data removed]",
            "text/plain": [
              "<Figure size 1280x480 with 1 Axes>"
            ]
          },
          "metadata": {
            "tags": [],
            "needs_background": "light"
          }
        }
      ]
    },
    {
      "cell_type": "markdown",
      "metadata": {
        "id": "49BMsKL5G8U7"
      },
      "source": [
        "As you might intuitively expect, the probability is highest at the mean value/lambda of events over a given time."
      ]
    },
    {
      "cell_type": "markdown",
      "metadata": {
        "id": "xvoGGwfnjQgS"
      },
      "source": [
        "## Inter-arrival times\n",
        "* The inter-arrival times between events can be modeled using the Exponential distribution\n",
        "* In [this blog](https://towardsdatascience.com/the-poisson-process-everything-you-need-to-know-322aa0ab9e9a) we learn to use the inverse CDF function to create inter arrival times.\n",
        "  * This works because instead giving an interval of time into a cdf function to return the probability, we are going to use the random python library to generate a random probability (0,1) and feed that into the inverse CDF function to get an expected time given the probability.\n",
        "\n",
        "Inverse-CDF:\n",
        "\n",
        "$F_X^{-1}(t)=-\\frac{ln(1-t)}{\\lambda}$ \n",
        "\n",
        "where t is some random probability (0,1) and $\\lambda$ is the mean number of events given some time interval"
      ]
    },
    {
      "cell_type": "code",
      "metadata": {
        "id": "lV05lbSBExq3",
        "colab": {
          "base_uri": "https://localhost:8080/"
        },
        "outputId": "084e0948-28dd-4919-b982-440896707c48"
      },
      "source": [
        "import random\n",
        "\n",
        "def inverse_cdf(t: float, mean_lambda: float) -> float:\n",
        "  result = -(math.log(1 - t)) / (mean_lambda)\n",
        "  return result\n",
        "\n",
        "print(inverse_cdf(random.random(), 10))"
      ],
      "execution_count": 28,
      "outputs": [
        {
          "output_type": "stream",
          "text": [
            "0.2756158391367172\n"
          ],
          "name": "stdout"
        }
      ]
    },
    {
      "cell_type": "code",
      "metadata": {
        "colab": {
          "base_uri": "https://localhost:8080/"
        },
        "id": "QVpEinE0EWiH",
        "outputId": "29ddecc6-63ae-4a3d-a413-dc6114af8ca3"
      },
      "source": [
        "def simulate_n_visits(mean_lambda: float, n: int):\n",
        "  result = []\n",
        "  arrival_time = 0\n",
        "\n",
        "  for i in range(n):\n",
        "    t = random.random()\n",
        "\n",
        "    inter_arrival_time = inverse_cdf(t, mean_lambda)\n",
        "\n",
        "    arrival_time = arrival_time + inter_arrival_time\n",
        "    result.append(arrival_time)\n",
        "  \n",
        "  return result\n",
        "\n",
        "arrival_times = simulate_n_visits(10, 100)\n"
      ],
      "execution_count": 35,
      "outputs": [
        {
          "output_type": "execute_result",
          "data": {
            "text/plain": [
              "[0.016589944910087164,\n",
              " 0.38793296748468764,\n",
              " 0.41481121730360554,\n",
              " 0.4500114593048906,\n",
              " 0.5219575698857047,\n",
              " 0.5394063727534965,\n",
              " 0.5816484480445411,\n",
              " 0.6360766749658427,\n",
              " 0.6603980011308752,\n",
              " 0.9519320283035664,\n",
              " 0.9873942260348342,\n",
              " 1.0892287001417371,\n",
              " 1.2124770988942075,\n",
              " 1.359723365894429,\n",
              " 1.3710911184890813,\n",
              " 1.4761656002830235,\n",
              " 1.775891183739363,\n",
              " 1.8080725787557637,\n",
              " 1.8150550730463688,\n",
              " 1.8280739720834753,\n",
              " 1.9505141564347572,\n",
              " 2.067733340866693,\n",
              " 2.071903494337982,\n",
              " 2.092397509761911,\n",
              " 2.1196396310263643,\n",
              " 2.201748607265362,\n",
              " 2.2586761391342804,\n",
              " 2.329498695298124,\n",
              " 2.413808063303998,\n",
              " 2.5665605747474816,\n",
              " 2.733650472721418,\n",
              " 2.734376545559373,\n",
              " 2.863793926860488,\n",
              " 2.9547339433764197,\n",
              " 3.0978213529323932,\n",
              " 3.1741600599883437,\n",
              " 3.218468544756606,\n",
              " 3.2789955937329927,\n",
              " 3.2977566502089237,\n",
              " 3.3708331135659546,\n",
              " 3.3853341444959635,\n",
              " 3.4791117558505094,\n",
              " 3.634273235569296,\n",
              " 3.667191251135479,\n",
              " 3.703645452160565,\n",
              " 3.731484741258519,\n",
              " 3.7612334628302184,\n",
              " 3.78957873503427,\n",
              " 3.805951573680333,\n",
              " 4.026655434942976,\n",
              " 4.065398096342571,\n",
              " 4.104805012703763,\n",
              " 4.109050534209703,\n",
              " 4.240524690026033,\n",
              " 4.292558523056788,\n",
              " 4.35792378490828,\n",
              " 4.399486206746764,\n",
              " 4.4764708625105145,\n",
              " 4.483749260794737,\n",
              " 4.539149010982266,\n",
              " 4.742458926117446,\n",
              " 4.9654279601425655,\n",
              " 5.0294736083069305,\n",
              " 5.349918799763918,\n",
              " 5.361354308752068,\n",
              " 5.46510298302943,\n",
              " 5.470810979850459,\n",
              " 5.540965656168082,\n",
              " 5.58562154833254,\n",
              " 5.59742648079365,\n",
              " 5.94416031946885,\n",
              " 6.010914115620125,\n",
              " 6.200921407023289,\n",
              " 6.2349695073649345,\n",
              " 6.415450280142988,\n",
              " 6.759051306035647,\n",
              " 6.765425460141932,\n",
              " 6.8007012160057805,\n",
              " 6.976478674948209,\n",
              " 7.045250871881274,\n",
              " 7.0654356849112885,\n",
              " 7.1275030809973465,\n",
              " 7.13396084528905,\n",
              " 7.19482881804328,\n",
              " 7.407363663541891,\n",
              " 7.701641780862674,\n",
              " 7.713735387504593,\n",
              " 7.8376125125953555,\n",
              " 7.887603150327758,\n",
              " 7.953770578148747,\n",
              " 8.028401294896776,\n",
              " 8.06882155860503,\n",
              " 8.088041936308775,\n",
              " 8.15330279565864,\n",
              " 8.159966769921605,\n",
              " 8.478190968556735,\n",
              " 8.622994351885508,\n",
              " 8.646747812623461,\n",
              " 8.998874054077879,\n",
              " 9.109750409548733]"
            ]
          },
          "metadata": {
            "tags": []
          },
          "execution_count": 35
        }
      ]
    },
    {
      "cell_type": "code",
      "metadata": {
        "colab": {
          "base_uri": "https://localhost:8080/",
          "height": 444
        },
        "id": "2kTLnkuIHrF5",
        "outputId": "f7e20fcf-49f9-4e12-b34c-4638298aecca"
      },
      "source": [
        "figure(figsize=(16, 6), dpi=80)\n",
        "\n",
        "plt.scatter(range(100), arrival_times, s=12)\n",
        "plt.xticks([0, 10, 20, 30, 40, 50, 60, 70, 80, 90, 100])\n",
        "plt.yticks([1, 2, 3, 4, 5, 6, 7, 8, 9, 10])\n",
        "plt.ylabel('arrival time in minutes')\n",
        "plt.xlabel('visitor index')\n",
        "plt.title('arrival time vs visitor index')\n",
        "plt.grid()\n",
        "plt.show()"
      ],
      "execution_count": 52,
      "outputs": [
        {
          "output_type": "display_data",
          "data": {
            "image/png": "[encoded data removed]",
            "text/plain": [
              "<Figure size 1280x480 with 1 Axes>"
            ]
          },
          "metadata": {
            "tags": [],
            "needs_background": "light"
          }
        }
      ]
    },
    {
      "cell_type": "code",
      "metadata": {
        "id": "P5hWt5NZInUa"
      },
      "source": [
        ""
      ],
      "execution_count": null,
      "outputs": []
    }
  ]
}